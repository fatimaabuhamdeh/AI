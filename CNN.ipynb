{
  "nbformat": 4,
  "nbformat_minor": 0,
  "metadata": {
    "colab": {
      "provenance": [],
      "authorship_tag": "ABX9TyP36mVBzuP2dn+xezrsGLFf",
      "include_colab_link": true
    },
    "kernelspec": {
      "name": "python3",
      "display_name": "Python 3"
    },
    "language_info": {
      "name": "python"
    }
  },
  "cells": [
    {
      "cell_type": "markdown",
      "metadata": {
        "id": "view-in-github",
        "colab_type": "text"
      },
      "source": [
        "<a href=\"https://colab.research.google.com/github/fatimaabuhamdeh/AI/blob/main/CNN.ipynb\" target=\"_parent\"><img src=\"https://colab.research.google.com/assets/colab-badge.svg\" alt=\"Open In Colab\"/></a>"
      ]
    },
    {
      "cell_type": "code",
      "source": [
        "import numpy as np\n",
        "import pandas as pd\n",
        "import matplotlib.pyplot as plt\n",
        "import tensorflow as tf"
      ],
      "metadata": {
        "id": "V7UM8OXbV515"
      },
      "execution_count": 2,
      "outputs": []
    },
    {
      "source": [
        "df_train = pd.read_csv('/content/Train.csv')\n",
        "print(df_train.columns)"
      ],
      "cell_type": "code",
      "metadata": {
        "colab": {
          "base_uri": "https://localhost:8080/"
        },
        "id": "svtNa7WXWeH_",
        "outputId": "b362161a-f377-418a-c541-64b837ae96f0"
      },
      "execution_count": 3,
      "outputs": [
        {
          "output_type": "stream",
          "name": "stdout",
          "text": [
            "Index(['feature_0', 'feature_1', 'feature_2', 'feature_3', 'feature_4',\n",
            "       'feature_5', 'feature_6', 'feature_7', 'feature_8', 'feature_9',\n",
            "       'feature_10', 'feature_11', 'feature_12', 'feature_13', 'feature_14',\n",
            "       'feature_15', 'labels'],\n",
            "      dtype='object')\n"
          ]
        }
      ]
    },
    {
      "cell_type": "code",
      "source": [
        "X_train = df_train[['feature_0']]\n",
        "y_train = df_train['labels']"
      ],
      "metadata": {
        "id": "ca3_ezUHXRju"
      },
      "execution_count": 4,
      "outputs": []
    },
    {
      "cell_type": "code",
      "source": [
        "df_test = pd.read_csv('/content/Test.csv')\n",
        "print(df_test.columns)"
      ],
      "metadata": {
        "colab": {
          "base_uri": "https://localhost:8080/"
        },
        "id": "k3ax9FeiXbiI",
        "outputId": "261fc3e3-1989-450f-e11a-33dfead39f69"
      },
      "execution_count": 5,
      "outputs": [
        {
          "output_type": "stream",
          "name": "stdout",
          "text": [
            "Index(['feature_0', 'feature_1', 'feature_2', 'feature_3', 'feature_4',\n",
            "       'feature_5', 'feature_6', 'feature_7', 'feature_8', 'feature_9',\n",
            "       'feature_10', 'feature_11', 'feature_12', 'feature_13', 'feature_14',\n",
            "       'feature_15'],\n",
            "      dtype='object')\n"
          ]
        }
      ]
    },
    {
      "cell_type": "code",
      "source": [
        "X_test = df_test[['feature_1']]\n",
        "y_test = df_test['feature_2']"
      ],
      "metadata": {
        "id": "AvFiI3W9Xg6O"
      },
      "execution_count": 6,
      "outputs": []
    },
    {
      "cell_type": "code",
      "source": [
        "print(X_train.shape, X_test.shape, y_train.shape, y_test.shape)"
      ],
      "metadata": {
        "colab": {
          "base_uri": "https://localhost:8080/"
        },
        "id": "5ZB4pvrcX723",
        "outputId": "5c4fd1cc-f478-4721-9bd2-c25c4251e628"
      },
      "execution_count": 7,
      "outputs": [
        {
          "output_type": "stream",
          "name": "stdout",
          "text": [
            "(33908, 1) (11303, 1) (33908,) (11303,)\n"
          ]
        }
      ]
    },
    {
      "cell_type": "code",
      "source": [
        "X_train  = X_train/255.0\n",
        "X_test  = X_test/255.0"
      ],
      "metadata": {
        "id": "m4AngzGdX_yC"
      },
      "execution_count": 8,
      "outputs": []
    },
    {
      "cell_type": "code",
      "source": [
        "from tensorflow.keras.utils import to_categorical\n",
        "\n",
        "y_train = tf.keras.utils.to_categorical(y_train, 10)\n",
        "y_test = tf.keras.utils.to_categorical(y_test, 10)\n",
        "y_train"
      ],
      "metadata": {
        "colab": {
          "base_uri": "https://localhost:8080/"
        },
        "id": "qrbvtud2YTxj",
        "outputId": "c7297992-71d7-42c3-d480-16bf7911fa1b"
      },
      "execution_count": 9,
      "outputs": [
        {
          "output_type": "execute_result",
          "data": {
            "text/plain": [
              "array([[0., 1., 0., ..., 0., 0., 0.],\n",
              "       [1., 0., 0., ..., 0., 0., 0.],\n",
              "       [1., 0., 0., ..., 0., 0., 0.],\n",
              "       ...,\n",
              "       [1., 0., 0., ..., 0., 0., 0.],\n",
              "       [1., 0., 0., ..., 0., 0., 0.],\n",
              "       [1., 0., 0., ..., 0., 0., 0.]], dtype=float32)"
            ]
          },
          "metadata": {},
          "execution_count": 9
        }
      ]
    },
    {
      "cell_type": "code",
      "source": [
        "from keras.models import Sequential\n",
        "from keras.layers import Conv2D, MaxPool2D, Flatten, Dense, Dropout, BatchNormalization\n",
        "\n",
        "\n",
        "model = Sequential()\n",
        "\n",
        "# Convolutional Layer\n",
        "model.add(Conv2D(filters = 32,\n",
        "                 kernel_size = (3,3),\n",
        "                 input_shape = (32, 32, 3 ),\n",
        "                 activation = 'relu',\n",
        "                 padding='same'))\n",
        "model.add(BatchNormalization())\n",
        "model.add(Conv2D(filters=32, kernel_size=(3, 3), activation='relu', padding='same'))\n",
        "model.add(BatchNormalization())\n",
        "\n",
        "# Pooling layer\n",
        "model.add(MaxPool2D( pool_size = (2,2)))\n",
        "\n",
        "# Dropout Layer\n",
        "model.add(Dropout(0.25))\n",
        "\n",
        "\n",
        "model.add(Conv2D(filters=64, kernel_size=(3, 3), activation='relu', padding='same'))\n",
        "model.add(BatchNormalization())\n",
        "model.add(Conv2D(filters=64, kernel_size=(3, 3), activation='relu', padding='same'))\n",
        "model.add(BatchNormalization())\n",
        "\n",
        "model.add(MaxPool2D(pool_size=(2, 2)))\n",
        "model.add(Dropout(0.25))\n",
        "\n",
        "\n",
        "model.add(Conv2D(filters=128, kernel_size=(3, 3), activation='relu', padding='same'))\n",
        "model.add(BatchNormalization())\n",
        "model.add(Conv2D(filters=128, kernel_size=(3, 3), activation='relu', padding='same'))\n",
        "model.add(BatchNormalization())\n",
        "\n",
        "model.add(MaxPool2D(pool_size=(2, 2)))\n",
        "model.add(Dropout(0.25))\n",
        "\n",
        "# Flattening\n",
        "model.add(Flatten())\n",
        "\n",
        "# Fully connected layers\n",
        "model.add(Dense(128, activation = 'relu'))\n",
        "model.add(Dropout(0.25))\n",
        "model.add(Dense(10, activation = 'softmax'))"
      ],
      "metadata": {
        "id": "7lSMpRWvYr9Q"
      },
      "execution_count": 10,
      "outputs": []
    },
    {
      "cell_type": "code",
      "source": [
        "# compilation\n",
        "model.compile(loss = 'categorical_crossentropy', optimizer = 'adam', metrics = 'accuracy')\n",
        "y_train = y_train.reshape((y_train.shape[0], 1, y_train.shape[1]))\n",
        "# model training\n",
        "model.fit(X_train, y_train, epochs=12)"
      ],
      "metadata": {
        "colab": {
          "base_uri": "https://localhost:8080/"
        },
        "id": "dDWa0SVDdL48",
        "outputId": "0ac61083-6a22-4780-c3ab-57e0b2c21975"
      },
      "execution_count": 33,
      "outputs": [
        {
          "output_type": "stream",
          "name": "stdout",
          "text": [
            "Epoch 1/12\n",
            "1060/1060 [==============================] - 2s 1ms/step - loss: 0.4693 - accuracy: 0.8830\n",
            "Epoch 2/12\n",
            "1060/1060 [==============================] - 1s 1ms/step - loss: 0.3622 - accuracy: 0.8830\n",
            "Epoch 3/12\n",
            "1060/1060 [==============================] - 2s 2ms/step - loss: 0.3618 - accuracy: 0.8830\n",
            "Epoch 4/12\n",
            "1060/1060 [==============================] - 2s 1ms/step - loss: 0.3617 - accuracy: 0.8830\n",
            "Epoch 5/12\n",
            "1060/1060 [==============================] - 1s 1ms/step - loss: 0.3622 - accuracy: 0.8830\n",
            "Epoch 6/12\n",
            "1060/1060 [==============================] - 1s 1ms/step - loss: 0.3619 - accuracy: 0.8830\n",
            "Epoch 7/12\n",
            "1060/1060 [==============================] - 1s 1ms/step - loss: 0.3618 - accuracy: 0.8830\n",
            "Epoch 8/12\n",
            "1060/1060 [==============================] - 1s 1ms/step - loss: 0.3616 - accuracy: 0.8830\n",
            "Epoch 9/12\n",
            "1060/1060 [==============================] - 1s 1ms/step - loss: 0.3617 - accuracy: 0.8830\n",
            "Epoch 10/12\n",
            "1060/1060 [==============================] - 1s 1ms/step - loss: 0.3616 - accuracy: 0.8830\n",
            "Epoch 11/12\n",
            "1060/1060 [==============================] - 2s 2ms/step - loss: 0.3616 - accuracy: 0.8830\n",
            "Epoch 12/12\n",
            "1060/1060 [==============================] - 2s 2ms/step - loss: 0.3618 - accuracy: 0.8830\n"
          ]
        },
        {
          "output_type": "execute_result",
          "data": {
            "text/plain": [
              "<keras.src.callbacks.History at 0x7e326aa5dcf0>"
            ]
          },
          "metadata": {},
          "execution_count": 33
        }
      ]
    },
    {
      "cell_type": "code",
      "source": [
        "y_test = y_test.reshape((y_test.shape[0], 1, y_test.shape[1]))"
      ],
      "metadata": {
        "id": "NwIgzyFVfNlW"
      },
      "execution_count": 35,
      "outputs": []
    },
    {
      "cell_type": "code",
      "source": [
        "prediction = model.evaluate(X_test, y_test)\n",
        "print(f'Test Accuracy : {prediction[1] * 100:.4f}%')"
      ],
      "metadata": {
        "colab": {
          "base_uri": "https://localhost:8080/"
        },
        "id": "LewD3rSee5yA",
        "outputId": "9581d427-b3af-4859-9702-339ee3211a0d"
      },
      "execution_count": 39,
      "outputs": [
        {
          "output_type": "stream",
          "name": "stdout",
          "text": [
            "354/354 [==============================] - 0s 1ms/step - loss: 3.4433 - accuracy: 0.5906\n",
            "Test Accuracy : 59.0551%\n"
          ]
        }
      ]
    }
  ]
}